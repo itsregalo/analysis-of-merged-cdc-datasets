{
 "cells": [
  {
   "cell_type": "code",
   "execution_count": 1,
   "metadata": {},
   "outputs": [],
   "source": [
    "import pandas as pd"
   ]
  },
  {
   "cell_type": "code",
   "execution_count": 2,
   "metadata": {},
   "outputs": [],
   "source": [
    "dataset_1 = pd.read_csv('dataset_1.csv')\n",
    "dataset_2 = pd.read_csv('dataset_2.csv')\n",
    "dataset_3 = pd.read_csv('dataset_3.csv')\n",
    "dataset_4 = pd.read_csv('dataset_4.csv', low_memory=False)"
   ]
  },
  {
   "cell_type": "code",
   "execution_count": 3,
   "metadata": {},
   "outputs": [
    {
     "name": "stdout",
     "output_type": "stream",
     "text": [
      "(56700, 14)\n",
      "(1650, 6)\n",
      "(481140, 15)\n",
      "(269016, 11)\n"
     ]
    }
   ],
   "source": [
    "print(dataset_1.shape)\n",
    "print(dataset_2.shape)\n",
    "print(dataset_3.shape)\n",
    "print(dataset_4.shape)"
   ]
  },
  {
   "cell_type": "code",
   "execution_count": 8,
   "metadata": {},
   "outputs": [
    {
     "name": "stdout",
     "output_type": "stream",
     "text": [
      "(31428, 14)\n",
      "(206940, 15)\n",
      "(115810, 11)\n"
     ]
    }
   ],
   "source": [
    "# get data above 2020\n",
    "dataset_1 = dataset_1[dataset_1['Year'] >= 2020]\n",
    "print(dataset_1.shape)\n",
    "\n",
    "dataset_3 = dataset_3[dataset_3['Year'] >= 2020]\n",
    "print(dataset_3.shape)\n",
    "\n",
    "dataset_4 = dataset_4[dataset_4['Year'] >= 2020]\n",
    "print(dataset_4.shape)"
   ]
  },
  {
   "cell_type": "code",
   "execution_count": 5,
   "metadata": {},
   "outputs": [
    {
     "data": {
      "text/html": [
       "<div>\n",
       "<style scoped>\n",
       "    .dataframe tbody tr th:only-of-type {\n",
       "        vertical-align: middle;\n",
       "    }\n",
       "\n",
       "    .dataframe tbody tr th {\n",
       "        vertical-align: top;\n",
       "    }\n",
       "\n",
       "    .dataframe thead th {\n",
       "        text-align: right;\n",
       "    }\n",
       "</style>\n",
       "<table border=\"1\" class=\"dataframe\">\n",
       "  <thead>\n",
       "    <tr style=\"text-align: right;\">\n",
       "      <th></th>\n",
       "      <th>Jurisdiction</th>\n",
       "      <th>Week Ending Date</th>\n",
       "      <th>State Abbreviation</th>\n",
       "      <th>Year</th>\n",
       "      <th>Week</th>\n",
       "      <th>Age Group</th>\n",
       "      <th>Number of Deaths</th>\n",
       "      <th>Time Period</th>\n",
       "      <th>Type</th>\n",
       "      <th>Suppress</th>\n",
       "      <th>Note</th>\n",
       "    </tr>\n",
       "  </thead>\n",
       "  <tbody>\n",
       "    <tr>\n",
       "      <th>0</th>\n",
       "      <td>Alabama</td>\n",
       "      <td>01/10/2015</td>\n",
       "      <td>AL</td>\n",
       "      <td>2015</td>\n",
       "      <td>1</td>\n",
       "      <td>25-44 years</td>\n",
       "      <td>67.0</td>\n",
       "      <td>2015-2019</td>\n",
       "      <td>Predicted (weighted)</td>\n",
       "      <td>NaN</td>\n",
       "      <td>NaN</td>\n",
       "    </tr>\n",
       "    <tr>\n",
       "      <th>1</th>\n",
       "      <td>Alabama</td>\n",
       "      <td>01/17/2015</td>\n",
       "      <td>AL</td>\n",
       "      <td>2015</td>\n",
       "      <td>2</td>\n",
       "      <td>25-44 years</td>\n",
       "      <td>49.0</td>\n",
       "      <td>2015-2019</td>\n",
       "      <td>Predicted (weighted)</td>\n",
       "      <td>NaN</td>\n",
       "      <td>NaN</td>\n",
       "    </tr>\n",
       "    <tr>\n",
       "      <th>2</th>\n",
       "      <td>Alabama</td>\n",
       "      <td>01/24/2015</td>\n",
       "      <td>AL</td>\n",
       "      <td>2015</td>\n",
       "      <td>3</td>\n",
       "      <td>25-44 years</td>\n",
       "      <td>55.0</td>\n",
       "      <td>2015-2019</td>\n",
       "      <td>Predicted (weighted)</td>\n",
       "      <td>NaN</td>\n",
       "      <td>NaN</td>\n",
       "    </tr>\n",
       "    <tr>\n",
       "      <th>3</th>\n",
       "      <td>Alabama</td>\n",
       "      <td>01/31/2015</td>\n",
       "      <td>AL</td>\n",
       "      <td>2015</td>\n",
       "      <td>4</td>\n",
       "      <td>25-44 years</td>\n",
       "      <td>59.0</td>\n",
       "      <td>2015-2019</td>\n",
       "      <td>Predicted (weighted)</td>\n",
       "      <td>NaN</td>\n",
       "      <td>NaN</td>\n",
       "    </tr>\n",
       "    <tr>\n",
       "      <th>4</th>\n",
       "      <td>Alabama</td>\n",
       "      <td>02/07/2015</td>\n",
       "      <td>AL</td>\n",
       "      <td>2015</td>\n",
       "      <td>5</td>\n",
       "      <td>25-44 years</td>\n",
       "      <td>47.0</td>\n",
       "      <td>2015-2019</td>\n",
       "      <td>Predicted (weighted)</td>\n",
       "      <td>NaN</td>\n",
       "      <td>NaN</td>\n",
       "    </tr>\n",
       "  </tbody>\n",
       "</table>\n",
       "</div>"
      ],
      "text/plain": [
       "  Jurisdiction Week Ending Date State Abbreviation  Year  Week    Age Group  \\\n",
       "0      Alabama       01/10/2015                 AL  2015     1  25-44 years   \n",
       "1      Alabama       01/17/2015                 AL  2015     2  25-44 years   \n",
       "2      Alabama       01/24/2015                 AL  2015     3  25-44 years   \n",
       "3      Alabama       01/31/2015                 AL  2015     4  25-44 years   \n",
       "4      Alabama       02/07/2015                 AL  2015     5  25-44 years   \n",
       "\n",
       "   Number of Deaths Time Period                  Type Suppress Note  \n",
       "0              67.0   2015-2019  Predicted (weighted)      NaN  NaN  \n",
       "1              49.0   2015-2019  Predicted (weighted)      NaN  NaN  \n",
       "2              55.0   2015-2019  Predicted (weighted)      NaN  NaN  \n",
       "3              59.0   2015-2019  Predicted (weighted)      NaN  NaN  \n",
       "4              47.0   2015-2019  Predicted (weighted)      NaN  NaN  "
      ]
     },
     "execution_count": 5,
     "metadata": {},
     "output_type": "execute_result"
    }
   ],
   "source": [
    "dataset_4.head()"
   ]
  },
  {
   "cell_type": "code",
   "execution_count": 6,
   "metadata": {},
   "outputs": [
    {
     "name": "stdout",
     "output_type": "stream",
     "text": [
      "Dataset 1\n",
      "Index(['Week Ending Date', 'State', 'Observed Number', 'Upper Bound Threshold',\n",
      "       'Exceeds Threshold', 'Average Expected Count', 'Excess Estimate',\n",
      "       'Total Excess Estimate', 'Percent Excess Estimate', 'Year', 'Type',\n",
      "       'Outcome', 'Suppress', 'Note'],\n",
      "      dtype='object')\n",
      "\n",
      "\n",
      "Dataset 2\n",
      "Index(['State', 'Year', 'Month', 'Period', 'Indicator', 'Data Value'], dtype='object')\n",
      "\n",
      "\n",
      "Dataset 3\n",
      "Index(['Jurisdiction', 'Week Ending Date', 'State Abbreviation', 'Year',\n",
      "       'Week', 'Cause Group', 'Number of Deaths', 'Cause Subgroup',\n",
      "       'Time Period', 'Suppress', 'Note',\n",
      "       'Average Number of Deaths in Time Period',\n",
      "       'Difference from 2015-2019 to 2020',\n",
      "       'Percent Difference from 2015-2019 to 2020', 'Type'],\n",
      "      dtype='object')\n",
      "\n",
      "\n",
      "Dataset 4\n",
      "Index(['Jurisdiction', 'Week Ending Date', 'State Abbreviation', 'Year',\n",
      "       'Week', 'Age Group', 'Number of Deaths', 'Time Period', 'Type',\n",
      "       'Suppress', 'Note'],\n",
      "      dtype='object')\n"
     ]
    }
   ],
   "source": [
    "print(\"Dataset 1\")\n",
    "print(dataset_1.columns)\n",
    "print('\\n')\n",
    "print(\"Dataset 2\")\n",
    "print(dataset_2.columns)\n",
    "print('\\n')\n",
    "print(\"Dataset 3\")\n",
    "print(dataset_3.columns)\n",
    "print('\\n')\n",
    "print(\"Dataset 4\")\n",
    "print(dataset_4.columns)"
   ]
  },
  {
   "cell_type": "code",
   "execution_count": 7,
   "metadata": {},
   "outputs": [
    {
     "data": {
      "text/plain": [
       "\"\\nDATASET ATTRIBUTES AND SAMPLE VALUES\\n\\nDataset 1\\n'Week Ending Date' E.G 2017-01-07 \\n'State' e.g Alabama\\n'Observed Number' e.g 1121.0\\n'Upper Bound Threshold' e.g 1136\\n'Exceeds Threshold' e.g False\\n'Average Expected Count' e.g 1059\\n'Excess Estimate' e.g 62\\n'Total Excess Estimate' e.g 29601\\n'Percent Excess Estimate' e.g 5.852700\\n'Year' e.g 2017\\n'Type' e.g Predicted(Weighted)\\n'Outcome' e.g All causes\\n'Suppress' \\n'Note'\\n\\n\\nDataset 2\\n'State' e.g ALABAMA\\n'Year' e.g 2022\\n'Month' e.g January\\n'Period' e.g Monthly\\n'Indicator' e.g Number of Live Births\\n'Data Value' e.g 295000\\n\\n\\nDataset 3\\n'Jurisdiction' e.g Alabama\\n'Week Ending Date' e.g 01/10/2015\\n'State Abbreviation' e.g AL\\n'Year' e.g 2015\\n'Week' e.g 1\\n'Cause Group' e.g Alzheimer disease and dementia\\n'Number of Deaths' e.g 120 \\n'Cause Subgroup' e.g Alzheimer disease and dementia\\n'Time Period' e.g 2015-2019\\n'Suppress', \\n'Note',\\n'Average Number of Deaths in Time Period' e.g 103\\n'Difference from 2015-2019 to 2020',\\n'Percent Difference from 2015-2019 to 2020', \\n'Type' e.g Predicted (weighted)\\n\\n\\nDataset 4\\n'Jurisdiction' e.g Alabama\\n'Week Ending Date' e.g 01/10/2015\\n'State Abbreviation' e.g AL\\n'Year' e.g 2015\\n'Week' e.g 1\\n'Age Group' e.g 25-44 years \\n'Number of Deaths' e.g 67.0\\n'Time Period' e.g 2015-2019\\n'Type' e.g Predicted (weighted)\\n'Suppress', \\n'Note'\\n\""
      ]
     },
     "execution_count": 7,
     "metadata": {},
     "output_type": "execute_result"
    }
   ],
   "source": [
    "\"\"\"\n",
    "DATASET ATTRIBUTES AND SAMPLE VALUES\n",
    "\n",
    "Dataset 1\n",
    "'Week Ending Date' E.G 2017-01-07 \n",
    "'State' e.g Alabama\n",
    "'Observed Number' e.g 1121.0\n",
    "'Upper Bound Threshold' e.g 1136\n",
    "'Exceeds Threshold' e.g False\n",
    "'Average Expected Count' e.g 1059\n",
    "'Excess Estimate' e.g 62\n",
    "'Total Excess Estimate' e.g 29601\n",
    "'Percent Excess Estimate' e.g 5.852700\n",
    "'Year' e.g 2017\n",
    "'Type' e.g Predicted(Weighted)\n",
    "'Outcome' e.g All causes\n",
    "'Suppress' \n",
    "'Note'\n",
    "\n",
    "\n",
    "Dataset 2\n",
    "'State' e.g ALABAMA\n",
    "'Year' e.g 2022\n",
    "'Month' e.g January\n",
    "'Period' e.g Monthly\n",
    "'Indicator' e.g Number of Live Births\n",
    "'Data Value' e.g 295000\n",
    "\n",
    "\n",
    "Dataset 3\n",
    "'Jurisdiction' e.g Alabama\n",
    "'Week Ending Date' e.g 01/10/2015\n",
    "'State Abbreviation' e.g AL\n",
    "'Year' e.g 2015\n",
    "'Week' e.g 1\n",
    "'Cause Group' e.g Alzheimer disease and dementia\n",
    "'Number of Deaths' e.g 120 \n",
    "'Cause Subgroup' e.g Alzheimer disease and dementia\n",
    "'Time Period' e.g 2015-2019\n",
    "'Suppress', \n",
    "'Note',\n",
    "'Average Number of Deaths in Time Period' e.g 103\n",
    "'Difference from 2015-2019 to 2020',\n",
    "'Percent Difference from 2015-2019 to 2020', \n",
    "'Type' e.g Predicted (weighted)\n",
    "\n",
    "\n",
    "Dataset 4\n",
    "'Jurisdiction' e.g Alabama\n",
    "'Week Ending Date' e.g 01/10/2015\n",
    "'State Abbreviation' e.g AL\n",
    "'Year' e.g 2015\n",
    "'Week' e.g 1\n",
    "'Age Group' e.g 25-44 years \n",
    "'Number of Deaths' e.g 67.0\n",
    "'Time Period' e.g 2015-2019\n",
    "'Type' e.g Predicted (weighted)\n",
    "'Suppress', \n",
    "'Note'\n",
    "\"\"\""
   ]
  },
  {
   "cell_type": "code",
   "execution_count": 8,
   "metadata": {},
   "outputs": [
    {
     "data": {
      "text/plain": [
       "array(['alabama', 'alaska', 'arizona', 'arkansas', 'california',\n",
       "       'colorado', 'connecticut', 'delaware', 'district of columbia',\n",
       "       'florida', 'georgia', 'hawaii', 'idaho', 'illinois', 'indiana',\n",
       "       'iowa', 'kansas', 'kentucky', 'louisiana', 'maine', 'maryland',\n",
       "       'massachusetts', 'michigan', 'minnesota', 'mississippi',\n",
       "       'missouri', 'montana', 'nebraska', 'nevada', 'new hampshire',\n",
       "       'new jersey', 'new mexico', 'new york', 'new york city',\n",
       "       'north carolina', 'north dakota', 'ohio', 'oklahoma', 'oregon',\n",
       "       'pennsylvania', 'puerto rico', 'rhode island', 'south carolina',\n",
       "       'south dakota', 'tennessee', 'texas', 'united states', 'utah',\n",
       "       'vermont', 'virginia', 'washington', 'west virginia', 'wisconsin',\n",
       "       'wyoming'], dtype=object)"
      ]
     },
     "execution_count": 8,
     "metadata": {},
     "output_type": "execute_result"
    }
   ],
   "source": [
    "# change the state names to lowercase\n",
    "dataset_1['State'] = dataset_1['State'].str.lower()\n",
    "dataset_1['State'].unique()"
   ]
  },
  {
   "cell_type": "code",
   "execution_count": 9,
   "metadata": {},
   "outputs": [
    {
     "data": {
      "text/plain": [
       "array(['united states', 'alabama', 'alaska', 'arizona', 'arkansas',\n",
       "       'california', 'colorado', 'connecticut', 'delaware',\n",
       "       'district of columbia', 'florida', 'georgia', 'hawaii', 'idaho',\n",
       "       'illinois', 'indiana', 'iowa', 'kansas', 'kentucky', 'louisiana',\n",
       "       'maine', 'maryland', 'massachusetts', 'michigan', 'minnesota',\n",
       "       'mississippi', 'missouri', 'montana', 'nebraska', 'nevada',\n",
       "       'new hampshire', 'new jersey', 'new mexico', 'new york',\n",
       "       'north carolina', 'north dakota', 'ohio', 'oklahoma', 'oregon',\n",
       "       'pennsylvania', 'rhode island', 'south carolina', 'south dakota',\n",
       "       'tennessee', 'texas', 'utah', 'vermont', 'virginia', 'washington',\n",
       "       'west virginia', 'wisconsin', 'wyoming', 'puerto rico'],\n",
       "      dtype=object)"
      ]
     },
     "execution_count": 9,
     "metadata": {},
     "output_type": "execute_result"
    }
   ],
   "source": [
    "# convert state names to lowercase\n",
    "dataset_2['State'] = dataset_2['State'].str.lower()\n",
    "dataset_2['State'].unique()\n"
   ]
  },
  {
   "cell_type": "code",
   "execution_count": 10,
   "metadata": {},
   "outputs": [
    {
     "data": {
      "text/plain": [
       "array(['alabama', 'alaska', 'arizona', 'arkansas', 'california',\n",
       "       'colorado', 'connecticut', 'delaware', 'district of columbia',\n",
       "       'florida', 'georgia', 'hawaii', 'idaho', 'illinois', 'indiana',\n",
       "       'iowa', 'kansas', 'kentucky', 'louisiana', 'maine', 'maryland',\n",
       "       'massachusetts', 'michigan', 'minnesota', 'mississippi',\n",
       "       'missouri', 'montana', 'nebraska', 'nevada', 'new hampshire',\n",
       "       'new jersey', 'new mexico', 'new york', 'new york city',\n",
       "       'north carolina', 'north dakota', 'ohio', 'oklahoma', 'oregon',\n",
       "       'pennsylvania', 'puerto rico', 'rhode island', 'south carolina',\n",
       "       'south dakota', 'tennessee', 'texas', 'united states', 'utah',\n",
       "       'vermont', 'virginia', 'washington', 'west virginia', 'wisconsin',\n",
       "       'wyoming'], dtype=object)"
      ]
     },
     "execution_count": 10,
     "metadata": {},
     "output_type": "execute_result"
    }
   ],
   "source": [
    "# change Jurisdiction to State and convert to lowercase\n",
    "dataset_3 = dataset_3.rename(columns={'Jurisdiction': 'State'})\n",
    "dataset_3['State'] = dataset_3['State'].str.lower()\n",
    "dataset_3['State'].unique()"
   ]
  },
  {
   "cell_type": "code",
   "execution_count": 11,
   "metadata": {},
   "outputs": [
    {
     "data": {
      "text/plain": [
       "array(['alabama', 'alaska', 'arizona', 'arkansas', 'california',\n",
       "       'colorado', 'connecticut', 'delaware', 'district of columbia',\n",
       "       'florida', 'georgia', 'hawaii', 'idaho', 'illinois', 'indiana',\n",
       "       'iowa', 'kansas', 'kentucky', 'louisiana', 'maine', 'maryland',\n",
       "       'massachusetts', 'michigan', 'minnesota', 'mississippi',\n",
       "       'missouri', 'montana', 'nebraska', 'nevada', 'new hampshire',\n",
       "       'new jersey', 'new mexico', 'new york', 'new york city',\n",
       "       'north carolina', 'north dakota', 'ohio', 'oklahoma', 'oregon',\n",
       "       'pennsylvania', 'puerto rico', 'rhode island', 'south carolina',\n",
       "       'south dakota', 'tennessee', 'texas', 'united states', 'utah',\n",
       "       'vermont', 'virginia', 'washington', 'west virginia', 'wisconsin',\n",
       "       'wyoming'], dtype=object)"
      ]
     },
     "execution_count": 11,
     "metadata": {},
     "output_type": "execute_result"
    }
   ],
   "source": [
    "# rename Jurisdiction to State and convert to lowercase\n",
    "dataset_4.rename(columns={'Jurisdiction': 'State'}, inplace=True)\n",
    "dataset_4['State'] = dataset_4['State'].str.lower()\n",
    "dataset_4['State'].unique()"
   ]
  },
  {
   "cell_type": "code",
   "execution_count": 12,
   "metadata": {},
   "outputs": [
    {
     "name": "stdout",
     "output_type": "stream",
     "text": [
      "Dataset 1\n",
      "Index(['Week Ending Date', 'State', 'Observed Number', 'Upper Bound Threshold',\n",
      "       'Exceeds Threshold', 'Average Expected Count', 'Excess Estimate',\n",
      "       'Total Excess Estimate', 'Percent Excess Estimate', 'Year', 'Type',\n",
      "       'Outcome', 'Suppress', 'Note'],\n",
      "      dtype='object')\n",
      "\n",
      "\n",
      "Dataset 2\n",
      "Index(['State', 'Year', 'Month', 'Period', 'Indicator', 'Data Value'], dtype='object')\n",
      "\n",
      "\n",
      "Dataset 3\n",
      "Index(['State', 'Week Ending Date', 'State Abbreviation', 'Year', 'Week',\n",
      "       'Cause Group', 'Number of Deaths', 'Cause Subgroup', 'Time Period',\n",
      "       'Suppress', 'Note', 'Average Number of Deaths in Time Period',\n",
      "       'Difference from 2015-2019 to 2020',\n",
      "       'Percent Difference from 2015-2019 to 2020', 'Type'],\n",
      "      dtype='object')\n",
      "\n",
      "\n",
      "Dataset 4\n",
      "Index(['State', 'Week Ending Date', 'State Abbreviation', 'Year', 'Week',\n",
      "       'Age Group', 'Number of Deaths', 'Time Period', 'Type', 'Suppress',\n",
      "       'Note'],\n",
      "      dtype='object')\n"
     ]
    }
   ],
   "source": [
    "print(\"Dataset 1\")\n",
    "print(dataset_1.columns)\n",
    "print('\\n')\n",
    "print(\"Dataset 2\")\n",
    "print(dataset_2.columns)\n",
    "print('\\n')\n",
    "print(\"Dataset 3\")\n",
    "print(dataset_3.columns)\n",
    "print('\\n')\n",
    "print(\"Dataset 4\")\n",
    "print(dataset_4.columns)"
   ]
  },
  {
   "cell_type": "code",
   "execution_count": 13,
   "metadata": {},
   "outputs": [
    {
     "data": {
      "text/html": [
       "<div>\n",
       "<style scoped>\n",
       "    .dataframe tbody tr th:only-of-type {\n",
       "        vertical-align: middle;\n",
       "    }\n",
       "\n",
       "    .dataframe tbody tr th {\n",
       "        vertical-align: top;\n",
       "    }\n",
       "\n",
       "    .dataframe thead th {\n",
       "        text-align: right;\n",
       "    }\n",
       "</style>\n",
       "<table border=\"1\" class=\"dataframe\">\n",
       "  <thead>\n",
       "    <tr style=\"text-align: right;\">\n",
       "      <th></th>\n",
       "      <th>Week Ending Date</th>\n",
       "      <th>State</th>\n",
       "      <th>Observed Number</th>\n",
       "      <th>Upper Bound Threshold</th>\n",
       "      <th>Exceeds Threshold</th>\n",
       "      <th>Average Expected Count</th>\n",
       "      <th>Excess Estimate</th>\n",
       "      <th>Total Excess Estimate</th>\n",
       "      <th>Percent Excess Estimate</th>\n",
       "      <th>Year</th>\n",
       "      <th>Type</th>\n",
       "      <th>Outcome</th>\n",
       "      <th>Suppress</th>\n",
       "      <th>Note</th>\n",
       "      <th>Month</th>\n",
       "      <th>Period</th>\n",
       "      <th>Indicator</th>\n",
       "      <th>Data Value</th>\n",
       "    </tr>\n",
       "  </thead>\n",
       "  <tbody>\n",
       "    <tr>\n",
       "      <th>0</th>\n",
       "      <td>2022-01-01</td>\n",
       "      <td>alabama</td>\n",
       "      <td>1253.0</td>\n",
       "      <td>1172</td>\n",
       "      <td>True</td>\n",
       "      <td>1112</td>\n",
       "      <td>141</td>\n",
       "      <td>29601</td>\n",
       "      <td>12.684951</td>\n",
       "      <td>2022</td>\n",
       "      <td>Predicted (weighted)</td>\n",
       "      <td>All causes</td>\n",
       "      <td>NaN</td>\n",
       "      <td>Data in recent weeks are incomplete. Only 60% ...</td>\n",
       "      <td>January</td>\n",
       "      <td>Monthly</td>\n",
       "      <td>Number of Deaths</td>\n",
       "      <td>6824</td>\n",
       "    </tr>\n",
       "    <tr>\n",
       "      <th>1</th>\n",
       "      <td>2022-01-01</td>\n",
       "      <td>alabama</td>\n",
       "      <td>1253.0</td>\n",
       "      <td>1172</td>\n",
       "      <td>True</td>\n",
       "      <td>1112</td>\n",
       "      <td>141</td>\n",
       "      <td>29601</td>\n",
       "      <td>12.684951</td>\n",
       "      <td>2022</td>\n",
       "      <td>Predicted (weighted)</td>\n",
       "      <td>All causes</td>\n",
       "      <td>NaN</td>\n",
       "      <td>Data in recent weeks are incomplete. Only 60% ...</td>\n",
       "      <td>February</td>\n",
       "      <td>Monthly</td>\n",
       "      <td>Number of Deaths</td>\n",
       "      <td>6079</td>\n",
       "    </tr>\n",
       "    <tr>\n",
       "      <th>2</th>\n",
       "      <td>2022-01-01</td>\n",
       "      <td>alabama</td>\n",
       "      <td>1253.0</td>\n",
       "      <td>1172</td>\n",
       "      <td>True</td>\n",
       "      <td>1112</td>\n",
       "      <td>141</td>\n",
       "      <td>29601</td>\n",
       "      <td>12.684951</td>\n",
       "      <td>2022</td>\n",
       "      <td>Predicted (weighted)</td>\n",
       "      <td>All causes</td>\n",
       "      <td>NaN</td>\n",
       "      <td>Data in recent weeks are incomplete. Only 60% ...</td>\n",
       "      <td>March</td>\n",
       "      <td>Monthly</td>\n",
       "      <td>Number of Deaths</td>\n",
       "      <td>5106</td>\n",
       "    </tr>\n",
       "    <tr>\n",
       "      <th>3</th>\n",
       "      <td>2022-01-01</td>\n",
       "      <td>alabama</td>\n",
       "      <td>1253.0</td>\n",
       "      <td>1172</td>\n",
       "      <td>True</td>\n",
       "      <td>1112</td>\n",
       "      <td>141</td>\n",
       "      <td>29601</td>\n",
       "      <td>12.684951</td>\n",
       "      <td>2022</td>\n",
       "      <td>Predicted (weighted)</td>\n",
       "      <td>All causes</td>\n",
       "      <td>NaN</td>\n",
       "      <td>Data in recent weeks are incomplete. Only 60% ...</td>\n",
       "      <td>April</td>\n",
       "      <td>Monthly</td>\n",
       "      <td>Number of Deaths</td>\n",
       "      <td>4642</td>\n",
       "    </tr>\n",
       "    <tr>\n",
       "      <th>4</th>\n",
       "      <td>2022-01-01</td>\n",
       "      <td>alabama</td>\n",
       "      <td>1253.0</td>\n",
       "      <td>1172</td>\n",
       "      <td>True</td>\n",
       "      <td>1112</td>\n",
       "      <td>141</td>\n",
       "      <td>29601</td>\n",
       "      <td>12.684951</td>\n",
       "      <td>2022</td>\n",
       "      <td>Predicted (weighted)</td>\n",
       "      <td>All causes</td>\n",
       "      <td>NaN</td>\n",
       "      <td>Data in recent weeks are incomplete. Only 60% ...</td>\n",
       "      <td>May</td>\n",
       "      <td>Monthly</td>\n",
       "      <td>Number of Deaths</td>\n",
       "      <td>4702</td>\n",
       "    </tr>\n",
       "  </tbody>\n",
       "</table>\n",
       "</div>"
      ],
      "text/plain": [
       "  Week Ending Date    State  Observed Number  Upper Bound Threshold  \\\n",
       "0       2022-01-01  alabama           1253.0                   1172   \n",
       "1       2022-01-01  alabama           1253.0                   1172   \n",
       "2       2022-01-01  alabama           1253.0                   1172   \n",
       "3       2022-01-01  alabama           1253.0                   1172   \n",
       "4       2022-01-01  alabama           1253.0                   1172   \n",
       "\n",
       "   Exceeds Threshold  Average Expected Count  Excess Estimate  \\\n",
       "0               True                    1112              141   \n",
       "1               True                    1112              141   \n",
       "2               True                    1112              141   \n",
       "3               True                    1112              141   \n",
       "4               True                    1112              141   \n",
       "\n",
       "   Total Excess Estimate  Percent Excess Estimate  Year                  Type  \\\n",
       "0                  29601                12.684951  2022  Predicted (weighted)   \n",
       "1                  29601                12.684951  2022  Predicted (weighted)   \n",
       "2                  29601                12.684951  2022  Predicted (weighted)   \n",
       "3                  29601                12.684951  2022  Predicted (weighted)   \n",
       "4                  29601                12.684951  2022  Predicted (weighted)   \n",
       "\n",
       "      Outcome Suppress                                               Note  \\\n",
       "0  All causes      NaN  Data in recent weeks are incomplete. Only 60% ...   \n",
       "1  All causes      NaN  Data in recent weeks are incomplete. Only 60% ...   \n",
       "2  All causes      NaN  Data in recent weeks are incomplete. Only 60% ...   \n",
       "3  All causes      NaN  Data in recent weeks are incomplete. Only 60% ...   \n",
       "4  All causes      NaN  Data in recent weeks are incomplete. Only 60% ...   \n",
       "\n",
       "      Month   Period         Indicator  Data Value  \n",
       "0   January  Monthly  Number of Deaths        6824  \n",
       "1  February  Monthly  Number of Deaths        6079  \n",
       "2     March  Monthly  Number of Deaths        5106  \n",
       "3     April  Monthly  Number of Deaths        4642  \n",
       "4       May  Monthly  Number of Deaths        4702  "
      ]
     },
     "execution_count": 13,
     "metadata": {},
     "output_type": "execute_result"
    }
   ],
   "source": [
    "# merge datasets 1 and 2, group by state and year\n",
    "dataset_12 = pd.merge(dataset_1, dataset_2, how='inner', on=['State', 'Year'])\n",
    "dataset_12.head()"
   ]
  },
  {
   "cell_type": "code",
   "execution_count": 14,
   "metadata": {},
   "outputs": [
    {
     "data": {
      "text/plain": [
       "(10000, 15)"
      ]
     },
     "execution_count": 14,
     "metadata": {},
     "output_type": "execute_result"
    }
   ],
   "source": [
    "# get databset above the year 2020 limit random 10000 samples\n",
    "dataset_3 = dataset_3[dataset_3['Year'] > 2020]\n",
    "dataset_3 = dataset_3.sample(n=10000, random_state=1)\n",
    "dataset_3.shape\n",
    "\n",
    "# group by state and year\n",
    "dataset_3 = dataset_3.groupby(['State', 'Year']).sum().reset_index()\n",
    "dataset_3.head()\n",
    "\n",
    "# group dataset 12 by state and year\n",
    "dataset_12 = dataset_12.groupby(['State', 'Year']).sum().reset_index()\n",
    "dataset_12.head()\n",
    "\n",
    "# merge datasets 12 and 3, group by state and year\n",
    "dataset_123 = pd.merge(dataset_12, dataset_3, how='inner', on=['State', 'Year'])\n",
    "dataset_123.head()\n",
    "\n",
    "# group dataset_4 by state and year\n",
    "dataset_4 = dataset_4.groupby(['State', 'Year']).sum().reset_index()\n",
    "dataset_4.head()\n",
    "\n",
    "# merge datasets 123 and 4, group by state and year\n",
    "dataset_1234 = pd.merge(dataset_123, dataset_4, how='inner', on=['State', 'Year'])\n",
    "dataset_1234.head()\n",
    "\n"
   ]
  },
  {
   "cell_type": "code",
   "execution_count": 15,
   "metadata": {},
   "outputs": [
    {
     "ename": "",
     "evalue": "",
     "output_type": "error",
     "traceback": [
      "\u001b[1;31mFailed to interrupt the Kernel. \n",
      "\u001b[1;31mUnable to start Kernel 'base (Python 3.11.4)' due to a timeout waiting for the ports to get used. \n",
      "\u001b[1;31mView Jupyter <a href='command:jupyter.viewOutput'>log</a> for further details."
     ]
    }
   ],
   "source": []
  }
 ],
 "metadata": {
  "kernelspec": {
   "display_name": "venv",
   "language": "python",
   "name": "python3"
  },
  "language_info": {
   "codemirror_mode": {
    "name": "ipython",
    "version": 3
   },
   "file_extension": ".py",
   "mimetype": "text/x-python",
   "name": "python",
   "nbconvert_exporter": "python",
   "pygments_lexer": "ipython3",
   "version": "3.11.4"
  }
 },
 "nbformat": 4,
 "nbformat_minor": 2
}
